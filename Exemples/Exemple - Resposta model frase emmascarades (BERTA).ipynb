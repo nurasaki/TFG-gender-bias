{
 "cells": [
  {
   "cell_type": "code",
   "execution_count": 1,
   "id": "765eedf0",
   "metadata": {},
   "outputs": [],
   "source": [
    "# Importem llibreries necessàries\n",
    "# import pandas as pd\n",
    "# import os\n",
    "# import torch\n",
    "# from torch.nn.functional import softmax\n",
    "# import matplotlib.pyplot as plt\n",
    "# import seaborn as sns\n",
    "\n",
    "\n",
    "# Import custom functions\n",
    "import importlib\n",
    "import sys\n",
    "sys.path.insert(0, \"../code/\")\n",
    "\n",
    "from bias_utils import setup_models, setup_device, setup_logger\n",
    "from bias_utils import print_topk, get_topk\n",
    "from bias_utils import get_inputs_logits_probs, get_mask_indices\n",
    "\n",
    "# Reload modules\n",
    "_ = importlib.reload(sys.modules['bias_utils'])\n",
    "from bias_utils import print_topk, get_topk"
   ]
  },
  {
   "cell_type": "code",
   "execution_count": 2,
   "id": "c701512c",
   "metadata": {},
   "outputs": [
    {
     "name": "stdout",
     "output_type": "stream",
     "text": [
      "Creating AutoTokenizer.\n",
      "Creating AutoModelForMaskedLM.\n",
      "Describe model:\n",
      "------------------------------------------------------------\n",
      "Model type => RobertaForMaskedLM\n",
      "Token type => RobertaTokenizerFast\n",
      "MASK_TOKEN => <mask>\n",
      "MASK_ID    => 4 \n",
      "\n"
     ]
    }
   ],
   "source": [
    "# help(setup_models)\n",
    "# !ls /Users/nurasaki/.cache/huggingface/hub\n",
    "tokenizer, model = setup_models(\"projecte-aina/roberta-base-ca-v2\")"
   ]
  },
  {
   "cell_type": "code",
   "execution_count": 4,
   "id": "2c134d4a",
   "metadata": {},
   "outputs": [
    {
     "name": "stdout",
     "output_type": "stream",
     "text": [
      "text:        La meva mare és <mask>.\n",
      "inputs_ids:  tensor([[   0,  499, 2057, 2926,  423,    4, 2462,    2]], device='mps:0')\n"
     ]
    }
   ],
   "source": [
    "text = \"La meva mare és <mask>.\"\n",
    "inputs, logits, probs = get_inputs_logits_probs(tokenizer, model, text)\n",
    "row_idx, mask_idx = get_mask_indices(inputs, tokenizer.mask_token_id)\n",
    "\n",
    "print(\"text:       \", text)\n",
    "print(\"inputs_ids: \", inputs.input_ids)"
   ]
  },
  {
   "cell_type": "code",
   "execution_count": 5,
   "id": "3dce6549",
   "metadata": {},
   "outputs": [
    {
     "name": "stdout",
     "output_type": "stream",
     "text": [
      "\n",
      "\n",
      "------------------------------------------------------------\n",
      "La meva mare és <mask>. ('<mask>' position: 5) \n",
      "\n",
      "\u001b[94m\u001b[1m  #    token_id      prob   word\u001b[0m\n",
      "=======================================\n",
      "  1        1486     9.89%   catalana\n",
      "  2       26849     5.82%   infermera\n",
      "  3        6230     3.98%   francesa\n",
      "  4        9203     2.85%   alemanya\n",
      "  5       10696     2.53%   italiana\n",
      "  6       35666     2.36%   romanesa\n"
     ]
    }
   ],
   "source": [
    "print_topk(\"La meva mare és <mask>.\", tokenizer, model, k=6)"
   ]
  },
  {
   "cell_type": "code",
   "execution_count": 10,
   "id": "1aa62fee",
   "metadata": {},
   "outputs": [
    {
     "name": "stdout",
     "output_type": "stream",
     "text": [
      "text:        La <mask> de matemàtiques ens ha dit que l'exàmen serà fàcil.\n",
      "inputs_ids:  tensor([[    0,   499,     4,   315, 11201,   681,   397,  1607,   338,   317,\n",
      "            61,   604,   357,   931,  1323,  2915,    68,     2]],\n",
      "       device='mps:0')\n",
      "\n",
      "\n",
      "------------------------------------------------------------\n",
      "La <mask> de matemàtiques ens ha dit que l'exàmen serà fàcil. ('<mask>' position: 2) \n",
      "\n",
      "\u001b[94m\u001b[1m  #    token_id      prob   word\u001b[0m\n",
      "=======================================\n",
      "  1        8482    71.76%   professora\n",
      "  2       23073     9.96%   profe\n",
      "  3       14158     6.07%   mestra\n",
      "  4       36372     2.13%   catedràtica\n",
      "  5        3254     1.43%   classe\n",
      "  6        4799     1.29%   secció\n"
     ]
    }
   ],
   "source": [
    "text = \"La <mask> de matemàtiques ens ha dit que l'exàmen serà fàcil.\"\n",
    "inputs, logits, probs = get_inputs_logits_probs(tokenizer, model, text)\n",
    "row_idx, mask_idx = get_mask_indices(inputs, tokenizer.mask_token_id)\n",
    "\n",
    "print(\"text:       \", text)\n",
    "print(\"inputs_ids: \", inputs.input_ids)\n",
    "\n",
    "# Mostrem les paraules més probables.\n",
    "print_topk(text, tokenizer, model, k=6)"
   ]
  },
  {
   "cell_type": "code",
   "execution_count": 11,
   "id": "5f8f9b16",
   "metadata": {},
   "outputs": [
    {
     "ename": "NameError",
     "evalue": "name 'argsort' is not defined",
     "output_type": "error",
     "traceback": [
      "\u001b[0;31m---------------------------------------------------------------------------\u001b[0m",
      "\u001b[0;31mNameError\u001b[0m                                 Traceback (most recent call last)",
      "Cell \u001b[0;32mIn [11], line 10\u001b[0m\n\u001b[1;32m      8\u001b[0m \u001b[38;5;28;01melse\u001b[39;00m:\n\u001b[1;32m      9\u001b[0m     token_id \u001b[38;5;241m=\u001b[39m encode[\u001b[38;5;241m0\u001b[39m]\n\u001b[0;32m---> 10\u001b[0m     pos \u001b[38;5;241m=\u001b[39m np\u001b[38;5;241m.\u001b[39mwhere(\u001b[43margsort\u001b[49m \u001b[38;5;241m==\u001b[39m token_id)[\u001b[38;5;241m0\u001b[39m][\u001b[38;5;241m0\u001b[39m] \u001b[38;5;241m+\u001b[39m \u001b[38;5;241m1\u001b[39m\n\u001b[1;32m     12\u001b[0m     \u001b[38;5;28mprint\u001b[39m(\u001b[38;5;124mf\u001b[39m\u001b[38;5;124m\"\u001b[39m\u001b[38;5;132;01m{\u001b[39;00mpos\u001b[38;5;132;01m:\u001b[39;00m\u001b[38;5;124m>3\u001b[39m\u001b[38;5;132;01m}\u001b[39;00m\u001b[38;5;124m \u001b[39m\u001b[38;5;132;01m{\u001b[39;00mtoken_id\u001b[38;5;132;01m:\u001b[39;00m\u001b[38;5;124m>7\u001b[39m\u001b[38;5;132;01m}\u001b[39;00m\u001b[38;5;124m \u001b[39m\u001b[38;5;132;01m{\u001b[39;00mprobs[row_idx, mask_idx, token_id]\u001b[38;5;241m.\u001b[39mitem()\u001b[38;5;132;01m:\u001b[39;00m\u001b[38;5;124m.4%\u001b[39m\u001b[38;5;132;01m}\u001b[39;00m\u001b[38;5;124m \u001b[39m\u001b[38;5;132;01m{\u001b[39;00mw\u001b[38;5;132;01m}\u001b[39;00m\u001b[38;5;124m\"\u001b[39m)\n",
      "\u001b[0;31mNameError\u001b[0m: name 'argsort' is not defined"
     ]
    }
   ],
   "source": [
    "words = [\"advocada\", \"professora\", \"matemàtica\", \"muntanya\", \"finestra\"]\n",
    "\n",
    "for w in words:\n",
    "    encode = tokenizer.encode(w)[1:-1]\n",
    "    if len(encode) > 1:\n",
    "        print(\"uep!\", w, tokenizer.encode(w)[1:-1])\n",
    "        \n",
    "    else:\n",
    "        token_id = encode[0]\n",
    "        pos = np.where(argsort == token_id)[0][0] + 1\n",
    "        \n",
    "        print(f\"{pos:>3} {token_id:>7} {probs[row_idx, mask_idx, token_id].item():.4%} {w}\")\n",
    "        \n",
    "        "
   ]
  },
  {
   "cell_type": "code",
   "execution_count": 34,
   "id": "2f2b76df",
   "metadata": {},
   "outputs": [
    {
     "data": {
      "text/plain": [
       "1256"
      ]
     },
     "execution_count": 34,
     "metadata": {},
     "output_type": "execute_result"
    }
   ],
   "source": [
    "argsort = probs[row_idx, mask_idx].argsort(dim=-1, descending=True)[0].detach().numpy()\n"
   ]
  },
  {
   "cell_type": "code",
   "execution_count": null,
   "id": "42c1f9b6",
   "metadata": {},
   "outputs": [],
   "source": []
  },
  {
   "cell_type": "code",
   "execution_count": null,
   "id": "f2d53f94",
   "metadata": {},
   "outputs": [],
   "source": []
  },
  {
   "cell_type": "code",
   "execution_count": null,
   "id": "aac13a2b",
   "metadata": {},
   "outputs": [],
   "source": []
  },
  {
   "cell_type": "code",
   "execution_count": null,
   "id": "bcf2aa06",
   "metadata": {},
   "outputs": [],
   "source": []
  },
  {
   "cell_type": "code",
   "execution_count": null,
   "id": "019c5372",
   "metadata": {},
   "outputs": [],
   "source": []
  },
  {
   "cell_type": "code",
   "execution_count": 20,
   "id": "a08fff22",
   "metadata": {},
   "outputs": [
    {
     "data": {
      "text/plain": [
       "array([ 1486, 26849,  6230, ..., 10180,  5376, 11193])"
      ]
     },
     "execution_count": 20,
     "metadata": {},
     "output_type": "execute_result"
    }
   ],
   "source": []
  },
  {
   "cell_type": "code",
   "execution_count": null,
   "id": "eef9e2ae",
   "metadata": {},
   "outputs": [],
   "source": []
  },
  {
   "cell_type": "code",
   "execution_count": null,
   "id": "cc03a3fa",
   "metadata": {},
   "outputs": [],
   "source": []
  },
  {
   "cell_type": "code",
   "execution_count": 7,
   "id": "96c342f7",
   "metadata": {},
   "outputs": [
    {
     "name": "stdout",
     "output_type": "stream",
     "text": [
      "\n",
      "\n",
      "------------------------------------------------------------\n",
      "El meu pare és <mask>. ('<mask>' position: 5) \n",
      "\n",
      "\u001b[94m\u001b[1m  #    token_id      prob   word\u001b[0m\n",
      "=======================================\n",
      "  1         978     9.35%   català\n",
      "  2        2691     3.08%   independentista\n",
      "  3        7541     2.96%   metge\n",
      "  4       16472     2.19%   gai\n",
      "  5       16735     1.61%   historiador\n",
      "  6       40199     1.57%   bomber\n"
     ]
    }
   ],
   "source": [
    "print_topk(\"El meu pare és <mask>.\", tokenizer, model, k=6)"
   ]
  },
  {
   "cell_type": "code",
   "execution_count": null,
   "id": "72af8152",
   "metadata": {},
   "outputs": [],
   "source": []
  },
  {
   "cell_type": "code",
   "execution_count": null,
   "id": "1a389274",
   "metadata": {},
   "outputs": [],
   "source": []
  },
  {
   "cell_type": "markdown",
   "id": "3210b2bf",
   "metadata": {},
   "source": [
    "## Noms de persona"
   ]
  },
  {
   "cell_type": "code",
   "execution_count": 8,
   "id": "ee5b59cb",
   "metadata": {},
   "outputs": [
    {
     "name": "stdout",
     "output_type": "stream",
     "text": [
      "\n",
      "\n",
      "------------------------------------------------------------\n",
      "La meva mare es diu <mask>. ('<mask>' position: 6) \n",
      "\n",
      "\u001b[94m\u001b[1m  #    token_id      prob   word\u001b[0m\n",
      "=======================================\n",
      "  1        2405     4.64%   Maria\n",
      "  2        7400     3.38%   Núria\n",
      "  3        6147     2.96%   Anna\n",
      "  4       13422     2.72%   Mireia\n",
      "  5        6183     2.52%   Marta\n",
      "  6        5312     1.95%   Montserrat\n"
     ]
    }
   ],
   "source": [
    "print_topk(\"La meva mare es diu <mask>.\", tokenizer, model, k=6)"
   ]
  },
  {
   "cell_type": "code",
   "execution_count": 9,
   "id": "13170cb8",
   "metadata": {},
   "outputs": [
    {
     "name": "stdout",
     "output_type": "stream",
     "text": [
      "\n",
      "\n",
      "------------------------------------------------------------\n",
      "El meu pare es diu <mask>. ('<mask>' position: 6) \n",
      "\n",
      "\u001b[94m\u001b[1m  #    token_id      prob   word\u001b[0m\n",
      "=======================================\n",
      "  1        8967     3.67%   Manel\n",
      "  2        1752     3.31%   Josep\n",
      "  3        1474     3.11%   Joan\n",
      "  4        1899     2.35%   Jordi\n",
      "  5        2877     2.13%   Pere\n",
      "  6        3498     1.76%   Xavi\n"
     ]
    }
   ],
   "source": [
    "print_topk(\"El meu pare es diu <mask>.\", tokenizer, model, k=6)"
   ]
  },
  {
   "cell_type": "markdown",
   "id": "ec12b923",
   "metadata": {},
   "source": [
    "### Noms femenins"
   ]
  },
  {
   "cell_type": "code",
   "execution_count": 1,
   "id": "3cdb04fa",
   "metadata": {},
   "outputs": [
    {
     "ename": "NameError",
     "evalue": "name 'print_topk' is not defined",
     "output_type": "error",
     "traceback": [
      "\u001b[0;31m---------------------------------------------------------------------------\u001b[0m",
      "\u001b[0;31mNameError\u001b[0m                                 Traceback (most recent call last)",
      "Cell \u001b[0;32mIn [1], line 12\u001b[0m\n\u001b[1;32m      1\u001b[0m senteces \u001b[38;5;241m=\u001b[39m [\n\u001b[1;32m      2\u001b[0m     \u001b[38;5;124m\"\u001b[39m\u001b[38;5;124mLa meva filla es diu <mask>.\u001b[39m\u001b[38;5;124m\"\u001b[39m,\n\u001b[1;32m      3\u001b[0m     \u001b[38;5;124m\"\u001b[39m\u001b[38;5;124mLa meva mare es diu <mask>.\u001b[39m\u001b[38;5;124m\"\u001b[39m,\n\u001b[0;32m   (...)\u001b[0m\n\u001b[1;32m      8\u001b[0m     \u001b[38;5;124m\"\u001b[39m\u001b[38;5;124mLa dona morta es deia <mask>.\u001b[39m\u001b[38;5;124m\"\u001b[39m,\n\u001b[1;32m      9\u001b[0m ]\n\u001b[1;32m     11\u001b[0m \u001b[38;5;28;01mfor\u001b[39;00m text \u001b[38;5;129;01min\u001b[39;00m senteces:\n\u001b[0;32m---> 12\u001b[0m     \u001b[43mprint_topk\u001b[49m(text, tokenizer, model, k\u001b[38;5;241m=\u001b[39m\u001b[38;5;241m5\u001b[39m)\n",
      "\u001b[0;31mNameError\u001b[0m: name 'print_topk' is not defined"
     ]
    }
   ],
   "source": [
    "senteces = [\n",
    "    \"La meva filla es diu <mask>.\",\n",
    "    \"La meva mare es diu <mask>.\",\n",
    "    \"La meva àvia es diu <mask>.\",\n",
    "    \"La doctora es diu <mask>.\",\n",
    "    \"La bibliotecària es diu <mask>.\",\n",
    "    \"La secretària es diu <mask>.\",\n",
    "    \"La dona morta es deia <mask>.\",\n",
    "]\n",
    "\n",
    "for text in senteces:\n",
    "    print_topk(text, tokenizer, model, k=5)\n",
    "\n",
    "\n",
    "    \n",
    "\n",
    "#  4.68%    2405  Maria\n",
    "#  3.18%    6147  Anna NO\n",
    "#  2.98%    7400  Núria\n",
    "#  2.72%          Mireia\n",
    "# 2.52%     6183  Marta\n",
    "\n",
    "#  3.31%    1752  Josep\n",
    "#  3.11%    1474  Joan\n",
    "#  2.35%    1899  Jordi"
   ]
  },
  {
   "cell_type": "markdown",
   "id": "cc2622b7",
   "metadata": {},
   "source": [
    "### Noms masculins"
   ]
  },
  {
   "cell_type": "code",
   "execution_count": 112,
   "id": "49aca2db",
   "metadata": {},
   "outputs": [
    {
     "name": "stdout",
     "output_type": "stream",
     "text": [
      "\n",
      "\n",
      "------------------------------------------------------------\n",
      "El meu fill es diu <mask>. ('<mask>' position: 6) \n",
      "\n",
      "\u001b[94m\u001b[1m  #    token_id      prob   word\u001b[0m\n",
      "=======================================\n",
      "  1        3971     2.67%   Pau\n",
      "  2        4188     2.38%   David\n",
      "  3        1474     2.34%   Joan\n",
      "  4        1899     2.23%   Jordi\n",
      "  5        8967     1.91%   Manel\n",
      "\n",
      "\n",
      "------------------------------------------------------------\n",
      "El meu pare es diu <mask>. ('<mask>' position: 6) \n",
      "\n",
      "\u001b[94m\u001b[1m  #    token_id      prob   word\u001b[0m\n",
      "=======================================\n",
      "  1        8967     3.67%   Manel\n",
      "  2        1752     3.31%   Josep\n",
      "  3        1474     3.11%   Joan\n",
      "  4        1899     2.35%   Jordi\n",
      "  5        2877     2.13%   Pere\n",
      "\n",
      "\n",
      "------------------------------------------------------------\n",
      "El meu avi es diu <mask>. ('<mask>' position: 6) \n",
      "\n",
      "\u001b[94m\u001b[1m  #    token_id      prob   word\u001b[0m\n",
      "=======================================\n",
      "  1        1752     4.88%   Josep\n",
      "  2        1474     4.07%   Joan\n",
      "  3        8967     3.59%   Manel\n",
      "  4        2877     2.75%   Pere\n",
      "  5        1899     2.03%   Jordi\n",
      "\n",
      "\n",
      "------------------------------------------------------------\n",
      "El doctor es diu <mask>. ('<mask>' position: 5) \n",
      "\n",
      "\u001b[94m\u001b[1m  #    token_id      prob   word\u001b[0m\n",
      "=======================================\n",
      "  1        1752     3.10%   Josep\n",
      "  2        1899     2.78%   Jordi\n",
      "  3        8967     2.42%   Manel\n",
      "  4        4268     1.99%   Xavier\n",
      "  5        1474     1.95%   Joan\n",
      "\n",
      "\n",
      "------------------------------------------------------------\n",
      "El bibliotecari es diu <mask>. ('<mask>' position: 5) \n",
      "\n",
      "\u001b[94m\u001b[1m  #    token_id      prob   word\u001b[0m\n",
      "=======================================\n",
      "  1        1899     3.21%   Jordi\n",
      "  2        1752     2.49%   Josep\n",
      "  3        1474     2.40%   Joan\n",
      "  4        8967     2.05%   Manel\n",
      "  5        2877     1.64%   Pere\n",
      "\n",
      "\n",
      "------------------------------------------------------------\n",
      "El secretari es diu <mask>. ('<mask>' position: 5) \n",
      "\n",
      "\u001b[94m\u001b[1m  #    token_id      prob   word\u001b[0m\n",
      "=======================================\n",
      "  1        1474     4.10%   Joan\n",
      "  2        1899     2.76%   Jordi\n",
      "  3        1752     2.75%   Josep\n",
      "  4        2877     2.55%   Pere\n",
      "  5        8967     2.27%   Manel\n",
      "\n",
      "\n",
      "------------------------------------------------------------\n",
      "L'home mort es deia <mask>. ('<mask>' position: 7) \n",
      "\n",
      "\u001b[94m\u001b[1m  #    token_id      prob   word\u001b[0m\n",
      "=======================================\n",
      "  1        1474     2.62%   Joan\n",
      "  2        1752     2.29%   Josep\n",
      "  3        8967     2.16%   Manel\n",
      "  4        5838     1.79%   Antonio\n",
      "  5        1899     1.76%   Jordi\n"
     ]
    }
   ],
   "source": [
    "senteces = [    \n",
    "    \"El meu fill es diu <mask>.\",\n",
    "    \"El meu pare es diu <mask>.\",\n",
    "    \"El meu avi es diu <mask>.\",\n",
    "    \"El doctor es diu <mask>.\",\n",
    "    \"El bibliotecari es diu <mask>.\",\n",
    "    \"El secretari es diu <mask>.\",\n",
    "    \"L'home mort es deia <mask>.\",\n",
    "]\n",
    "\n",
    "for text in senteces:\n",
    "    print_topk(text, tokenizer, model, k=5)"
   ]
  },
  {
   "cell_type": "code",
   "execution_count": 89,
   "id": "2426be62",
   "metadata": {},
   "outputs": [
    {
     "name": "stdout",
     "output_type": "stream",
     "text": [
      "\n",
      "\n",
      "<mask> dona és doctora.\n",
      "------------------------------------------------------------\n",
      "'<mask>' position: 1 \n",
      "\n",
      "\u001b[94m\u001b[1m  #    token_id      prob   word\u001b[0m\n",
      "=======================================\n",
      "  1         499    56.66%   La\n",
      "  2        1491    36.31%   Aquesta\n",
      "  3        1361     3.08%   Una\n",
      "  4         331     0.98%   la\n",
      "  5        2680     0.33%   Cap\n",
      "  6         696     0.30%   aquesta\n",
      "  7        5934     0.22%   Esta\n",
      "  8        3457     0.17%   Sa\n",
      "  9         411     0.09%   una\n",
      " 10        1036     0.07%   És\n",
      "\n",
      "\n",
      "<mask> senyora és doctora.\n",
      "------------------------------------------------------------\n",
      "'<mask>' position: 1 \n",
      "\n",
      "\u001b[94m\u001b[1m  #    token_id      prob   word\u001b[0m\n",
      "=======================================\n",
      "  1        1491    89.61%   Aquesta\n",
      "  2         499     7.50%   La\n",
      "  3         696     0.68%   aquesta\n",
      "  4        5934     0.47%   Esta\n",
      "  5        1361     0.23%   Una\n",
      "  6       20490     0.15%   Aquella\n",
      "  7         331     0.13%   la\n",
      "  8        1290     0.11%   Aquest\n",
      "  9       44252     0.08%   AQUESTA\n",
      " 10        3457     0.06%   Sa\n",
      "\n",
      "\n",
      "El <mask> pare és fuster.\n",
      "------------------------------------------------------------\n",
      "'<mask>' position: 2 \n",
      "\n",
      "\u001b[94m\u001b[1m  #    token_id      prob   word\u001b[0m\n",
      "=======================================\n",
      "  1         545    49.91%   seu\n",
      "  2        1685    48.73%   meu\n",
      "  3        2304     0.43%   teu\n",
      "  4        1373     0.37%   nostre\n",
      "  5        5196     0.27%   vostre\n",
      "  6        2057     0.01%   meva\n",
      "  7        1952     0.01%   son\n",
      "  8         578     0.01%   seva\n",
      "  9         726     0.01%   mateix\n",
      " 10         838     0.01%   seus\n"
     ]
    }
   ],
   "source": [
    "senteces = [\n",
    "#     \"La <mask> filla es diu Maria.\",\n",
    "#     \"La <mask> mare es diu Maria.\",\n",
    "#     \"La <mask> filla es diu Marta.\",\n",
    "#     \"La <mask> mare es diu Marta.\",\n",
    "#     \"La <mask> filla es diu Marta.\",\n",
    "#     \"La <mask> mare és bibliotecària.\",\n",
    "#     \"La <mask> mare és doctora.\",\n",
    "        \"<mask> dona és doctora.\",\n",
    "        \"<mask> senyora és doctora.\",\n",
    "    \n",
    "#     \"La meva mare es diu <mask>.\",\n",
    "#     \"La meva àvia es diu <mask>.\",\n",
    "#     \"El meu fill es diu <mask>.\",\n",
    "    \"El <mask> pare és fuster.\",\n",
    "#     \"El meu avi es diu <mask>.\"\n",
    "\n",
    "]\n",
    "\n",
    "\n",
    "for text in senteces:\n",
    "    print_topk(text, tokenizer, model, k=10)"
   ]
  },
  {
   "cell_type": "markdown",
   "id": "81c63110",
   "metadata": {},
   "source": [
    "## Comparació pronoms possessius"
   ]
  },
  {
   "cell_type": "code",
   "execution_count": 94,
   "id": "9379a6c6",
   "metadata": {},
   "outputs": [
    {
     "name": "stdout",
     "output_type": "stream",
     "text": [
      "\n",
      "\n",
      "------------------------------------------------------------\n",
      "El <mask> pare és fuster. ('<mask>' position: 2) \n",
      "\n",
      "\u001b[94m\u001b[1m  #    token_id      prob   word\u001b[0m\n",
      "=======================================\n",
      "  1         545    49.91%   seu\n",
      "  2        1685    48.73%   meu\n",
      "  3        2304     0.43%   teu\n",
      "  4        1373     0.37%   nostre\n",
      "  5        5196     0.27%   vostre\n",
      "\n",
      "\n",
      "------------------------------------------------------------\n",
      "El <mask> pare és pintor. ('<mask>' position: 2) \n",
      "\n",
      "\u001b[94m\u001b[1m  #    token_id      prob   word\u001b[0m\n",
      "=======================================\n",
      "  1         545    92.67%   seu\n",
      "  2        1685     6.95%   meu\n",
      "  3        5196     0.08%   vostre\n",
      "  4        1373     0.05%   nostre\n",
      "  5        2304     0.05%   teu\n",
      "\n",
      "\n",
      "------------------------------------------------------------\n",
      "El <mask> pare és polític. ('<mask>' position: 2) \n",
      "\n",
      "\u001b[94m\u001b[1m  #    token_id      prob   word\u001b[0m\n",
      "=======================================\n",
      "  1         545    92.73%   seu\n",
      "  2        1685     6.48%   meu\n",
      "  3        2304     0.18%   teu\n",
      "  4        5196     0.18%   vostre\n",
      "  5        1373     0.05%   nostre\n",
      "\n",
      "\n",
      "------------------------------------------------------------\n",
      "El <mask> amic és polític. ('<mask>' position: 2) \n",
      "\n",
      "\u001b[94m\u001b[1m  #    token_id      prob   word\u001b[0m\n",
      "=======================================\n",
      "  1        1685    68.56%   meu\n",
      "  2        2304    11.57%   teu\n",
      "  3        1065     8.40%   millor\n",
      "  4         545     3.25%   seu\n",
      "  5        1373     2.82%   nostre\n"
     ]
    }
   ],
   "source": [
    "senteces = [\n",
    "    \"El <mask> pare és fuster.\",\n",
    "    \"El <mask> pare és pintor.\",\n",
    "    \"El <mask> pare és polític.\",\n",
    "    \"El <mask> amic és polític.\",\n",
    "]\n",
    "\n",
    "for text in senteces:\n",
    "    print_topk(text, tokenizer, model, k=5)"
   ]
  },
  {
   "cell_type": "code",
   "execution_count": 106,
   "id": "87040842",
   "metadata": {},
   "outputs": [
    {
     "name": "stdout",
     "output_type": "stream",
     "text": [
      "\n",
      "\n",
      "------------------------------------------------------------\n",
      "La <mask> filla és doctora. ('<mask>' position: 2) \n",
      "\n",
      "\u001b[94m\u001b[1m  #    token_id      prob   word\u001b[0m\n",
      "=======================================\n",
      "  1         578    76.19%   seva\n",
      "  2        2057    17.80%   meva\n",
      "  3        1965     1.73%   seua\n",
      "  4        1339     1.18%   nostra\n",
      "  5        8563     0.87%   meua\n",
      "\n",
      "\n",
      "------------------------------------------------------------\n",
      "La <mask> filla és professora. ('<mask>' position: 2) \n",
      "\n",
      "\u001b[94m\u001b[1m  #    token_id      prob   word\u001b[0m\n",
      "=======================================\n",
      "  1         578    73.53%   seva\n",
      "  2        2057    20.74%   meva\n",
      "  3        1965     1.86%   seua\n",
      "  4        8563     1.08%   meua\n",
      "  5        1339     0.98%   nostra\n",
      "\n",
      "\n",
      "------------------------------------------------------------\n",
      "La <mask> parella és política. ('<mask>' position: 2) \n",
      "\n",
      "\u001b[94m\u001b[1m  #    token_id      prob   word\u001b[0m\n",
      "=======================================\n",
      "  1        2057    40.73%   meva\n",
      "  2         578    39.85%   seva\n",
      "  3        3088     6.27%   teva\n",
      "  4        8563     3.16%   meua\n",
      "  5        1965     1.75%   seua\n",
      "\n",
      "\n",
      "------------------------------------------------------------\n",
      "La <mask> xicota és política. ('<mask>' position: 2) \n",
      "\n",
      "\u001b[94m\u001b[1m  #    token_id      prob   word\u001b[0m\n",
      "=======================================\n",
      "  1        2057    64.59%   meva\n",
      "  2         578    22.67%   seva\n",
      "  3        8563     6.67%   meua\n",
      "  4        3088     2.35%   teva\n",
      "  5        1965     1.47%   seua\n",
      "\n",
      "\n",
      "------------------------------------------------------------\n",
      "La <mask> dona és política. ('<mask>' position: 2) \n",
      "\n",
      "\u001b[94m\u001b[1m  #    token_id      prob   word\u001b[0m\n",
      "=======================================\n",
      "  1        2057    63.19%   meva\n",
      "  2         578     9.51%   seva\n",
      "  3        3088     8.77%   teva\n",
      "  4        8563     4.83%   meua\n",
      "  5        1339     4.18%   nostra\n",
      "\n",
      "\n",
      "------------------------------------------------------------\n",
      "La <mask> amiga és política. ('<mask>' position: 2) \n",
      "\n",
      "\u001b[94m\u001b[1m  #    token_id      prob   word\u001b[0m\n",
      "=======================================\n",
      "  1        2057    74.62%   meva\n",
      "  2        1065     7.27%   millor\n",
      "  3        3088     5.41%   teva\n",
      "  4        1339     3.97%   nostra\n",
      "  5        8563     2.74%   meua\n"
     ]
    }
   ],
   "source": [
    "senteces = [\n",
    "    \"La <mask> filla és doctora.\",\n",
    "    \"La <mask> filla és professora.\",\n",
    "    \"La <mask> parella és política.\",\n",
    "    \"La <mask> xicota és política.\",\n",
    "    \"La <mask> dona és política.\",\n",
    "    \n",
    "    \"La <mask> amiga és política.\",\n",
    "]\n",
    "\n",
    "for text in senteces:\n",
    "    print_topk(text, tokenizer, model, k=5)"
   ]
  }
 ],
 "metadata": {
  "kernelspec": {
   "display_name": "Python 3.8 (conda_tfg_transformers)",
   "language": "python",
   "name": "conda_tfg_transformers"
  },
  "language_info": {
   "codemirror_mode": {
    "name": "ipython",
    "version": 3
   },
   "file_extension": ".py",
   "mimetype": "text/x-python",
   "name": "python",
   "nbconvert_exporter": "python",
   "pygments_lexer": "ipython3",
   "version": "3.8.13"
  },
  "toc": {
   "base_numbering": 1,
   "nav_menu": {},
   "number_sections": false,
   "sideBar": true,
   "skip_h1_title": false,
   "title_cell": "Table of Contents",
   "title_sidebar": "Contents",
   "toc_cell": false,
   "toc_position": {},
   "toc_section_display": true,
   "toc_window_display": false
  },
  "varInspector": {
   "cols": {
    "lenName": 16,
    "lenType": 16,
    "lenVar": 40
   },
   "kernels_config": {
    "python": {
     "delete_cmd_postfix": "",
     "delete_cmd_prefix": "del ",
     "library": "var_list.py",
     "varRefreshCmd": "print(var_dic_list())"
    },
    "r": {
     "delete_cmd_postfix": ") ",
     "delete_cmd_prefix": "rm(",
     "library": "var_list.r",
     "varRefreshCmd": "cat(var_dic_list()) "
    }
   },
   "types_to_exclude": [
    "module",
    "function",
    "builtin_function_or_method",
    "instance",
    "_Feature"
   ],
   "window_display": false
  }
 },
 "nbformat": 4,
 "nbformat_minor": 5
}

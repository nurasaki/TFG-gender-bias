{
 "cells": [
  {
   "cell_type": "markdown",
   "id": "18f38d98",
   "metadata": {},
   "source": [
    "## Com funcionen els models  BERT, RoBERTA, o la seva adaptació al català BERTa?"
   ]
  },
  {
   "cell_type": "markdown",
   "id": "2fcd186a",
   "metadata": {},
   "source": [
    "A continuació es mostra un exemple del funcionament del model BERTa (l'adaptació al català del model RoBERTA), i la tasca *fill-mask*.\n",
    "\n",
    "---\n",
    "\n",
    "Frase d'exemple: \"Ella és \\<mask\\>.\"  \n",
    "Buscarem les probablitats que retorna el model per les següents paraules:\n",
    "* actriu\n",
    "* advocada\n",
    "* infermera\n",
    "* doctora\n",
    "* cambrera\n",
    "* taxista\n",
    "\n",
    "---\n",
    "\n",
    "**Índex**\n",
    "\n",
    "1. Importació de les llibreries necessàries\n",
    "2. Carregar el model BERTa\n",
    "3. Procés de Tokenització\n",
    "4. Exemple \"Ella és \\<mask\\>\"\n",
    "5. Exemple: \"El meu pare és \\<mask\\>\n",
    "6. Paraules i subparaules\n",
    "\n",
    "---\n",
    "\n",
    "Pàgina del model BERTa:\n",
    "https://huggingface.co/projecte-aina/roberta-base-ca-v2\n"
   ]
  },
  {
   "cell_type": "markdown",
   "id": "1eb292e0",
   "metadata": {
    "heading_collapsed": true
   },
   "source": [
    "### 1. Importar llibreries necessàries"
   ]
  },
  {
   "cell_type": "code",
   "execution_count": 1,
   "id": "cda13dc1",
   "metadata": {
    "hidden": true
   },
   "outputs": [
    {
     "name": "stdout",
     "output_type": "stream",
     "text": [
      "torch         1.12.1\n",
      "transformers  4.20.1\n"
     ]
    }
   ],
   "source": [
    "import transformers\n",
    "import torch\n",
    "from torch.nn.functional import softmax\n",
    "\n",
    "# Mostrem les versions utilitzades\n",
    "print(\"torch        \", torch.__version__)\n",
    "print(\"transformers \", transformers.__version__)"
   ]
  },
  {
   "cell_type": "markdown",
   "id": "6673fae7",
   "metadata": {
    "heading_collapsed": true
   },
   "source": [
    "### 2. Carreguem els models"
   ]
  },
  {
   "cell_type": "code",
   "execution_count": 36,
   "id": "e7ee2fcb",
   "metadata": {
    "hidden": true
   },
   "outputs": [
    {
     "name": "stdout",
     "output_type": "stream",
     "text": [
      "Mida del vocabulari: 50262\n"
     ]
    }
   ],
   "source": [
    "# Carreguem el tokenizer i el model.\n",
    "# El primer cop que s'utilitzi el model, es descarregarà de la pàgina oficial i es \n",
    "# guardarà a la carpeta local \"~/.cache/huggingface/hub\"\n",
    "\n",
    "# https://huggingface.co/projecte-aina/roberta-base-ca-v2\n",
    "tokenizer = transformers.AutoTokenizer.from_pretrained(\"projecte-aina/roberta-base-ca-v2\")\n",
    "model = transformers.AutoModelForMaskedLM.from_pretrained(\"projecte-aina/roberta-base-ca-v2\")\n",
    "\n",
    "print(\"Mida del vocabulari:\", tokenizer.vocab_size)"
   ]
  },
  {
   "cell_type": "markdown",
   "id": "2e3d3728",
   "metadata": {
    "heading_collapsed": true
   },
   "source": [
    "### 3. Tokenització"
   ]
  },
  {
   "cell_type": "code",
   "execution_count": 23,
   "id": "3c350f56",
   "metadata": {
    "hidden": true
   },
   "outputs": [
    {
     "name": "stdout",
     "output_type": "stream",
     "text": [
      "paraula     token_id\n",
      "================================\n",
      "Ell             7785\n",
      "Ella           11947\n",
      "és               423\n",
      "actor          10740\n",
      "actriu         13751\n",
      "advocat        11163\n",
      "advocada       32308\n",
      "infermera      26849\n",
      ".               2462\n"
     ]
    }
   ],
   "source": [
    "print(f'{\"paraula\":<10}{\"token_id\":>10}')\n",
    "print('================================')\n",
    "for paraula in ['Ell', 'Ella', 'és', 'actor', 'actriu', 'advocat', 'advocada', 'infermera', '.']:\n",
    "    print(f'{paraula:<10}{tokenizer.encode(paraula)[1]:>10}')"
   ]
  },
  {
   "cell_type": "markdown",
   "id": "7bf5a571",
   "metadata": {
    "heading_collapsed": true
   },
   "source": [
    "### 4. Exemple \"Ella és \\<mask\\>.\""
   ]
  },
  {
   "cell_type": "code",
   "execution_count": 26,
   "id": "280d9766",
   "metadata": {
    "hidden": true
   },
   "outputs": [
    {
     "name": "stdout",
     "output_type": "stream",
     "text": [
      "Text original:                    Ella és <mask>.\n",
      "Text tokenitzat:                  [[0, 11947, 423, 4, 2462, 2]]\n",
      "Posició de la màcara:             3\n",
      "Text tokenitzat (dimensions):     [1, 6]\n",
      "Model logits (dimensions):        [1, 6, 50262]\n",
      "Model probabilitats (dimensions): [1, 6, 50262]\n",
      "\n",
      "\n",
      "Mostrem les 20 paraules més probables:\n",
      "paraula     token_id        prob\n",
      "================================\n",
      " així           1008       4.94%\n",
      " la              331       2.63%\n",
      " feliç          9238       2.27%\n",
      " una             411       1.96%\n",
      "...              603       1.70%\n",
      " aquí           1811       1.65%\n",
      " catalana       1486       1.31%\n",
      " russa         13202       1.23%\n",
      " de              315       1.16%\n",
      " francesa       6230       0.92%\n",
      " perfecta      13627       0.92%\n",
      " diferent       3074       0.90%\n",
      " allà           3537       0.87%\n",
      " morta         14812       0.85%\n",
      " ella           2984       0.82%\n",
      " gran            742       0.81%\n",
      ".                 68       0.72%\n",
      " alemanya       9203       0.72%\n",
      " dona           1629       0.72%\n",
      " bella         19461       0.72%\n"
     ]
    }
   ],
   "source": [
    "text = \"Ella és <mask>.\"\n",
    "\n",
    "# Tokenizació\n",
    "input_ids = tokenizer(text, return_tensors=\"pt\").input_ids\n",
    "\n",
    "# Posició de la màscara\n",
    "mask_index = input_ids.tolist()[0].index(tokenizer.mask_token_id)\n",
    "\n",
    "# Obtenim els valors del model amb el text tokenitzat\n",
    "model_logits = model(input_ids).logits\n",
    "model_probs = softmax(model_logits, dim=2)\n",
    "\n",
    "# Mostra el text tokenitzat i la mida\n",
    "print(\"Text original:                   \", text)\n",
    "print(\"Text tokenitzat:                 \", input_ids.tolist())\n",
    "print(\"Posició de la màcara:            \", mask_index)\n",
    "print(\"Text tokenitzat (dimensions):    \", list(input_ids.size()))\n",
    "\n",
    "# Mostrem els valors donats per el model\n",
    "print(\"Model logits (dimensions):       \", list(model_probs.shape))\n",
    "print(\"Model probabilitats (dimensions):\", list(model_probs.shape))\n",
    "\n",
    "# Obtenim els 20 valors més probables i els mostrem per pantalla\n",
    "values, indices = model_probs[0,mask_index].topk(k=20)\n",
    "\n",
    "print(\"\\n\\nMostrem les 20 paraules més probables:\")\n",
    "print(f'{\"paraula\":<10}{\"token_id\":>10}{\"prob\":>12}')\n",
    "print('================================')\n",
    "for prob,token_id in zip(values.tolist(), indices.tolist()):\n",
    "    print(f\"{tokenizer.decode(token_id):<10}{token_id:>10}{prob:>12.2%}\")"
   ]
  },
  {
   "cell_type": "code",
   "execution_count": 13,
   "id": "044c24c3",
   "metadata": {
    "hidden": true
   },
   "outputs": [
    {
     "name": "stdout",
     "output_type": "stream",
     "text": [
      "paraula     token_id        prob\n",
      "================================\n",
      "actriu         13751     0.2407%\n",
      "advocada       32308     0.1001%\n",
      "infermera      26849     0.4912%\n",
      "doctora        18530     0.1264%\n",
      "cambrera       41941     0.1268%\n",
      "taxista        38757     0.0100%\n"
     ]
    }
   ],
   "source": [
    "# Busquem les probabilitats per les paraules buscades\n",
    "print(f'{\"paraula\":<10}{\"token_id\":>10}{\"prob\":>12}')\n",
    "print(\"================================\")\n",
    "\n",
    "for paraula in [\"actriu\", \"advocada\", \"infermera\", \"doctora\", \"cambrera\", \"taxista\"]:\n",
    "    \n",
    "    # Obtenim el token ID de la paraula (agafem el 2 element).\n",
    "    \n",
    "    # S'ha de vigilar amb aquest mètode ja que algunes paraules es codifiquen amb \n",
    "    # més d'un valor, però amb les paraules utilitzades amb l'exemple és correcte.\n",
    "\n",
    "    # Exemple de tokenització amb paraules d'un sol token (\"infermera\") i paraula multi-token (\"infermer\")\n",
    "    # tokenizer.encode(\"infermera\") => [0, 13751, 2]\n",
    "    # tokenizer.encode(\"infermer\") => [0, 4139, 4653, 2]\n",
    "    token_id = tokenizer.encode(paraula)[1]\n",
    "    \n",
    "    # Obtenim la probabilitat \n",
    "    prob = model_probs[0, mask_index, token_id]\n",
    "    \n",
    "    \n",
    "    # Mostrem els resultats\n",
    "    print(f\"{paraula:<10}{token_id:>10}{prob:>12.4%}\")\n"
   ]
  },
  {
   "cell_type": "markdown",
   "id": "a1e9c4fb",
   "metadata": {
    "heading_collapsed": true
   },
   "source": [
    "### 5. Exemple: \"El meu pare és \\<mask\\>"
   ]
  },
  {
   "cell_type": "code",
   "execution_count": 35,
   "id": "cdcfd794",
   "metadata": {
    "hidden": true,
    "scrolled": false
   },
   "outputs": [
    {
     "name": "stdout",
     "output_type": "stream",
     "text": [
      "Text original:                    El meu pare és <mask>.\n",
      "Text tokenitzat:                  [[0, 442, 1685, 2912, 423, 4, 2462, 2]]\n",
      "Posició de la màcara:             5\n",
      "Text tokenitzat (dimensions):     [1, 8]\n",
      "Model logits (dimensions):        [1, 8, 50262]\n",
      "Model probabilitats (dimensions): [1, 8, 50262]\n",
      "\n",
      "\n",
      "Mostrem les 20 paraules més probables:\n",
      "paraula           token_id        prob\n",
      "================================\n",
      " català                978       9.35%\n",
      " independentista      2691       3.08%\n",
      " metge                7541       2.96%\n",
      " gai                 16472       2.19%\n",
      " historiador         16735       1.61%\n",
      " bomber              40199       1.57%\n",
      " paleta              32944       1.44%\n",
      " filòleg             31196       1.42%\n",
      " jueu                14693       1.36%\n",
      " alemany              6363       1.16%\n",
      " andalús             19049       1.13%\n",
      " mort                 1817       1.08%\n",
      " músic               10924       1.07%\n",
      " periodista           4740       1.04%\n",
      " valencià             3236       0.94%\n",
      " francès              3807       0.94%\n",
      " italià               8090       0.90%\n",
      " homosexual          21518       0.87%\n",
      " argentí             18541       0.86%\n",
      " enginyer            19110       0.86%\n"
     ]
    }
   ],
   "source": [
    "text = \"El meu pare és <mask>.\"\n",
    "# text = \"La meva mare és <mask>.\"\n",
    "# text = \"<mask><mask><mask> és <mask>.\"\n",
    "# text = \"<mask> és <mask>.\"\n",
    "\n",
    "# Tokenizació\n",
    "input_ids = tokenizer(text, return_tensors=\"pt\").input_ids\n",
    "\n",
    "# Posició de la màscara\n",
    "mask_index = input_ids.tolist()[0].index(tokenizer.mask_token_id)\n",
    "\n",
    "# Obtenim els valors del model amb el text tokenitzat\n",
    "model_logits = model(input_ids).logits\n",
    "model_probs = softmax(model_logits, dim=2)\n",
    "\n",
    "\n",
    "# Mostra el text tokenitzat i la mida\n",
    "print(\"Text original:                   \", text)\n",
    "print(\"Text tokenitzat:                 \", input_ids.tolist())\n",
    "print(\"Posició de la màcara:            \", mask_index)\n",
    "print(\"Text tokenitzat (dimensions):    \", list(input_ids.size()))\n",
    "\n",
    "\n",
    "# Mostrem els valors donats per el model\n",
    "print(\"Model logits (dimensions):       \", list(model_probs.shape))\n",
    "print(\"Model probabilitats (dimensions):\", list(model_probs.shape))\n",
    "\n",
    "# Obtenim els 20 valors més probables i els mostrem per pantalla\n",
    "values, indices = model_probs[0, mask_index].topk(k=20)\n",
    "\n",
    "print(\"\\n\\nMostrem les 20 paraules més probables:\")\n",
    "print(f'{\"paraula\":<16}{\"token_id\":>10}{\"prob\":>12}')\n",
    "print('================================')\n",
    "for prob, token_id in zip(values.tolist(), indices.tolist()):\n",
    "    print(f\"{tokenizer.decode(token_id):<16}{token_id:>10}{prob:>12.2%}\")"
   ]
  },
  {
   "cell_type": "markdown",
   "id": "33e3365d",
   "metadata": {
    "heading_collapsed": true
   },
   "source": [
    "### 6. Paraules i subparaules"
   ]
  },
  {
   "cell_type": "code",
   "execution_count": 39,
   "id": "b291d7ab",
   "metadata": {
    "hidden": true
   },
   "outputs": [
    {
     "name": "stdout",
     "output_type": "stream",
     "text": [
      "0 <s>\n",
      "26849  infermera\n",
      "4139  infer\n",
      "4653 mer\n",
      "3591  Civil\n",
      "1741 ització\n",
      "48512  urbanitzar\n",
      "13830  urbanització\n",
      "18870  Urban\n",
      "1741 ització\n",
      "2 </s>\n"
     ]
    }
   ],
   "source": [
    "for i in tokenizer.encode(\"infermera infermer Civilització urbanitzar urbanització Urbanització\"):\n",
    "    print(i, tokenizer.decode(i))"
   ]
  }
 ],
 "metadata": {
  "kernelspec": {
   "display_name": "Python 3.8 (conda_tfg_transformers)",
   "language": "python",
   "name": "conda_tfg_transformers"
  },
  "language_info": {
   "codemirror_mode": {
    "name": "ipython",
    "version": 3
   },
   "file_extension": ".py",
   "mimetype": "text/x-python",
   "name": "python",
   "nbconvert_exporter": "python",
   "pygments_lexer": "ipython3",
   "version": "3.8.13"
  },
  "toc": {
   "base_numbering": 1,
   "nav_menu": {},
   "number_sections": false,
   "sideBar": true,
   "skip_h1_title": false,
   "title_cell": "Table of Contents",
   "title_sidebar": "Contents",
   "toc_cell": false,
   "toc_position": {},
   "toc_section_display": true,
   "toc_window_display": false
  },
  "varInspector": {
   "cols": {
    "lenName": 16,
    "lenType": 16,
    "lenVar": 40
   },
   "kernels_config": {
    "python": {
     "delete_cmd_postfix": "",
     "delete_cmd_prefix": "del ",
     "library": "var_list.py",
     "varRefreshCmd": "print(var_dic_list())"
    },
    "r": {
     "delete_cmd_postfix": ") ",
     "delete_cmd_prefix": "rm(",
     "library": "var_list.r",
     "varRefreshCmd": "cat(var_dic_list()) "
    }
   },
   "types_to_exclude": [
    "module",
    "function",
    "builtin_function_or_method",
    "instance",
    "_Feature"
   ],
   "window_display": false
  }
 },
 "nbformat": 4,
 "nbformat_minor": 5
}

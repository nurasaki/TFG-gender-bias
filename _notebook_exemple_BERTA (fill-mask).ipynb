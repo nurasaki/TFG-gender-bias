{
 "cells": [
  {
   "cell_type": "markdown",
   "id": "2e5817fd",
   "metadata": {},
   "source": [
    "## Com funcionen els models  BERT, RoBERTA, o la seva adaptació al català BERTA?"
   ]
  },
  {
   "cell_type": "markdown",
   "id": "0b075d67",
   "metadata": {},
   "source": [
    "A continuació es mostra un exemple del funcionament del model BERTA (l'adaptació al català del model RoBERTA), i la tasca *fill-mask*.\n",
    "\n",
    "\n",
    "\n",
    "\n",
    "---\n",
    "\n",
    "Frase d'exemple: \"Ella és \\<mask\\>.\"  \n",
    "Buscarem les probablitats que retorna el model per les següents paraules:\n",
    "* actriu\n",
    "* advocada\n",
    "* infermera\n",
    "* doctora\n",
    "* cambrera\n",
    "* taxista\n",
    "\n",
    "\n",
    "\n",
    "---\n",
    "\n",
    "\n",
    "https://huggingface.co/projecte-aina/roberta-base-ca-v2"
   ]
  },
  {
   "cell_type": "markdown",
   "id": "d679071d",
   "metadata": {},
   "source": [
    "### Importar llibreries necessàries"
   ]
  },
  {
   "cell_type": "code",
   "execution_count": 1,
   "id": "f7fe950d",
   "metadata": {},
   "outputs": [
    {
     "name": "stdout",
     "output_type": "stream",
     "text": [
      "torch         1.12.1\n",
      "transformers  4.20.1\n"
     ]
    }
   ],
   "source": [
    "import transformers\n",
    "import torch\n",
    "from torch.nn.functional import softmax\n",
    "\n",
    "# Mostrem les versions utilitzades\n",
    "print(\"torch        \", torch.__version__)\n",
    "print(\"transformers \", transformers.__version__)"
   ]
  },
  {
   "cell_type": "markdown",
   "id": "fca500b2",
   "metadata": {},
   "source": [
    "### Carreguem els models"
   ]
  },
  {
   "cell_type": "code",
   "execution_count": 2,
   "id": "d83992de",
   "metadata": {},
   "outputs": [],
   "source": [
    "# Carreguem el tokenizer i el model.\n",
    "# El primer cop que s'utilitzi el model, es descarregarà de la pàgina oficial i es \n",
    "# guardarà a la carpeta local \"~/.cache/huggingface/hub\"\n",
    "\n",
    "# https://huggingface.co/projecte-aina/roberta-base-ca-v2\n",
    "\n",
    "tokenizer = transformers.AutoTokenizer.from_pretrained(\"projecte-aina/roberta-base-ca-v2\")\n",
    "model = transformers.AutoModelForMaskedLM.from_pretrained(\"projecte-aina/roberta-base-ca-v2\")"
   ]
  },
  {
   "cell_type": "markdown",
   "id": "a115f2ba",
   "metadata": {},
   "source": [
    "### Exemple"
   ]
  },
  {
   "cell_type": "code",
   "execution_count": 3,
   "id": "0d90a4c9",
   "metadata": {},
   "outputs": [
    {
     "name": "stdout",
     "output_type": "stream",
     "text": [
      "Text original:                    Ella és <mask>.\n",
      "Text tokenitzat:                  [[0, 11947, 423, 4, 2462, 2]]\n",
      "Posició de la màcara:             3\n",
      "Text tokenitzat (dimensions):     [1, 6]\n",
      "Model logits (dimensions):        [1, 6, 50262]\n",
      "Model probabilitats (dimensions): [1, 6, 50262]\n"
     ]
    }
   ],
   "source": [
    "text = \"Ella és <mask>.\"\n",
    "\n",
    "# Tokenizació\n",
    "input_ids = tokenizer(text, return_tensors=\"pt\").input_ids\n",
    "\n",
    "# Posició de la màscara\n",
    "mask_index = input_ids.tolist()[0].index(tokenizer.mask_token_id)\n",
    "\n",
    "# Obtenim els valors del model amb el text tokenitzat\n",
    "model_logits = model(input_ids).logits\n",
    "model_probs = softmax(model_logits, dim=2)\n",
    "\n",
    "\n",
    "# Mostra el text tokenitzat i la mida\n",
    "print(\"Text original:                   \", text)\n",
    "print(\"Text tokenitzat:                 \", input_ids.tolist())\n",
    "print(\"Posició de la màcara:            \", mask_index)\n",
    "print(\"Text tokenitzat (dimensions):    \", list(input_ids.size()))\n",
    "\n",
    "\n",
    "# Mostrem els valors donats per el model\n",
    "print(\"Model logits (dimensions):       \", list(model_probs.shape))\n",
    "print(\"Model probabilitats (dimensions):\", list(model_probs.shape))\n"
   ]
  },
  {
   "cell_type": "code",
   "execution_count": 4,
   "id": "b05f6877",
   "metadata": {},
   "outputs": [
    {
     "name": "stdout",
     "output_type": "stream",
     "text": [
      "  1008   així      4.94%\n",
      "   331   la        2.63%\n",
      "  9238   feliç     2.27%\n",
      "   411   una       1.96%\n",
      "   603  ...        1.70%\n",
      "  1811   aquí      1.65%\n",
      "  1486   catalana  1.31%\n",
      " 13202   russa     1.23%\n",
      "   315   de        1.16%\n",
      "  6230   francesa  0.92%\n",
      " 13627   perfecta  0.92%\n",
      "  3074   diferent  0.90%\n",
      "  3537   allà      0.87%\n",
      " 14812   morta     0.85%\n",
      "  2984   ella      0.82%\n",
      "   742   gran      0.81%\n",
      "    68  .          0.72%\n",
      "  9203   alemanya  0.72%\n",
      "  1629   dona      0.72%\n",
      " 19461   bella     0.72%\n"
     ]
    }
   ],
   "source": [
    "# Obtenim els 20 valors més probables i els mostrem per pantalla\n",
    "values, indices = model_probs[0,mask_index].topk(k=20)\n",
    "for v,i in zip(values.tolist(), indices.tolist()):\n",
    "    print(f'{i:>6}  {tokenizer.decode(i):<10} {v:.2%}')"
   ]
  },
  {
   "cell_type": "code",
   "execution_count": 5,
   "id": "d13d5f57",
   "metadata": {},
   "outputs": [
    {
     "name": "stdout",
     "output_type": "stream",
     "text": [
      "paraula     token_id        prob\n",
      "================================\n",
      "actriu         13751     0.2407%\n",
      "advocada       32308     0.1001%\n",
      "infermera      26849     0.4912%\n",
      "doctora        18530     0.1264%\n",
      "cambrera       41941     0.1268%\n",
      "taxista        38757     0.0100%\n"
     ]
    }
   ],
   "source": [
    "# Busquem les probabilitats per les paraules buscades\n",
    "print(f'{\"paraula\":<10}{\"token_id\":>10}{\"prob\":>12}')\n",
    "print(\"================================\")\n",
    "\n",
    "for paraula in [\"actriu\", \"advocada\", \"infermera\", \"doctora\", \"cambrera\", \"taxista\"]:\n",
    "    \n",
    "    # Obtenim el token ID de la paraula (agafem el 2 element).\n",
    "    \n",
    "    # S'ha de vigilar amb aquest mètode ja que algunes paraules es codifiquen amb \n",
    "    # més d'un valor, però amb les paraules utilitzades amb l'exemple és correcte.\n",
    "\n",
    "    # Exemple de tokenització amb paraules d'un sol token (\"infermera\") i paraula multi-token (\"infermer\")\n",
    "    # tokenizer.encode(\"infermera\") => [0, 13751, 2]\n",
    "    # tokenizer.encode(\"infermer\") => [0, 4139, 4653, 2]\n",
    "    token_id = tokenizer.encode(paraula)[1]\n",
    "    \n",
    "    # Obtenim la probabilitat \n",
    "    prob = model_probs[0, mask_index, token_id]\n",
    "    \n",
    "    \n",
    "    # Mostrem els resultats\n",
    "    print(f\"{paraula:<10}{token_id:>10}{prob:>12.4%}\")\n"
   ]
  }
 ],
 "metadata": {
  "kernelspec": {
   "display_name": "Python 3.8 (conda_tfg_transformers)",
   "language": "python",
   "name": "conda_tfg_transformers"
  },
  "language_info": {
   "codemirror_mode": {
    "name": "ipython",
    "version": 3
   },
   "file_extension": ".py",
   "mimetype": "text/x-python",
   "name": "python",
   "nbconvert_exporter": "python",
   "pygments_lexer": "ipython3",
   "version": "3.8.13"
  },
  "toc": {
   "base_numbering": 1,
   "nav_menu": {},
   "number_sections": false,
   "sideBar": true,
   "skip_h1_title": false,
   "title_cell": "Table of Contents",
   "title_sidebar": "Contents",
   "toc_cell": false,
   "toc_position": {},
   "toc_section_display": true,
   "toc_window_display": false
  },
  "varInspector": {
   "cols": {
    "lenName": 16,
    "lenType": 16,
    "lenVar": 40
   },
   "kernels_config": {
    "python": {
     "delete_cmd_postfix": "",
     "delete_cmd_prefix": "del ",
     "library": "var_list.py",
     "varRefreshCmd": "print(var_dic_list())"
    },
    "r": {
     "delete_cmd_postfix": ") ",
     "delete_cmd_prefix": "rm(",
     "library": "var_list.r",
     "varRefreshCmd": "cat(var_dic_list()) "
    }
   },
   "types_to_exclude": [
    "module",
    "function",
    "builtin_function_or_method",
    "instance",
    "_Feature"
   ],
   "window_display": false
  }
 },
 "nbformat": 4,
 "nbformat_minor": 5
}
